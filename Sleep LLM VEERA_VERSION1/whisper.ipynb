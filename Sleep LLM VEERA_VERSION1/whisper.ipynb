{
 "cells": [
  {
   "cell_type": "code",
   "execution_count": 2,
   "id": "84974574",
   "metadata": {},
   "outputs": [],
   "source": [
    "import whisper\n",
    "import os\n",
    "from collections import defaultdict\n",
    "import pickle"
   ]
  },
  {
   "cell_type": "code",
   "execution_count": null,
   "id": "9b64c20e",
   "metadata": {},
   "outputs": [],
   "source": [
    "# Read in file names of audio recordings\n",
    "recordings = os.listdir('D://recordings/English/')\n",
    "answers = defaultdict(list)\n",
    "\n",
    "# Loading whisper largev2 model\n",
    "model = whisper.load_model(\"D://test/large.pt\")\n",
    "model.cuda() # Pusing model to GPU\n",
    "\n",
    "c = 0\n",
    "\n",
    "# Iterate over each recording\n",
    "for i in recordings:\n",
    "    patient_id = i.lower()[1:-10]\n",
    "    print('Working with file ', i, c)\n",
    "    # Transcribing file with whisper\n",
    "    output = model.transcribe('D://recordings/English/'+i, task='translate')\n",
    "    # Storing result into a dictionary on a question basis\n",
    "    answers[patient_id] = output['text'].split('.')\n",
    "    # Writing to a pickle file that is used for LLM processing\n",
    "    with open('D://answers/english_translation.pkl', 'wb+') as f:\n",
    "        pickle.dump(answers, f)\n",
    "    c += 1"
   ]
  }
 ],
 "metadata": {
  "kernelspec": {
   "display_name": "base",
   "language": "python",
   "name": "base"
  },
  "language_info": {
   "codemirror_mode": {
    "name": "ipython",
    "version": 3
   },
   "file_extension": ".py",
   "mimetype": "text/x-python",
   "name": "python",
   "nbconvert_exporter": "python",
   "pygments_lexer": "ipython3",
   "version": "3.10.9"
  }
 },
 "nbformat": 4,
 "nbformat_minor": 5
}
